{
 "cells": [
  {
   "cell_type": "code",
   "execution_count": null,
   "metadata": {},
   "outputs": [],
   "source": [
    "#web scrap team stats"
   ]
  },
  {
   "cell_type": "code",
   "execution_count": null,
   "metadata": {},
   "outputs": [],
   "source": [
    "import requests\n",
    "from bs4 import BeautifulSoup\n",
    "import pandas as pd"
   ]
  },
  {
   "cell_type": "code",
   "execution_count": null,
   "metadata": {},
   "outputs": [],
   "source": [
    "teams = []\n",
    "team = \"iowa\""
   ]
  },
  {
   "cell_type": "code",
   "execution_count": null,
   "metadata": {},
   "outputs": [],
   "source": [
    "#build the systematic url\n",
    "#https://www.sports-reference.com/cbb/schools/north-carolina-at/2020.html\n",
    "#https://www.sports-reference.com/cbb/schools/iowa/2020.html\n",
    "def statScrapper(team):\n",
    "    url = \"https://www.sports-reference.com/cbb/schools/\"\n",
    "    url += team\n",
    "    url += \"/2020.html\"\n",
    "    \n",
    "    res = requests.get(url)\n",
    "    return res"
   ]
  },
  {
   "cell_type": "code",
   "execution_count": null,
   "metadata": {
    "scrolled": false
   },
   "outputs": [],
   "source": [
    "res = statScrapper(team)\n",
    "\n",
    "src = res.content\n",
    "soup = BeautifulSoup(src, 'lxml')\n",
    "\n",
    "rows = soup.find_all(\"tr\")\n",
    "table = soup.table\n",
    "\n",
    "for row in rows:\n",
    "    print(row.text)\n",
    "teamStat = soup.find(\"tr\").startswith(\"Team\")\n",
    "print(teamStat)\n"
   ]
  }
 ],
 "metadata": {
  "kernelspec": {
   "display_name": "Python 3",
   "language": "python",
   "name": "python3"
  },
  "language_info": {
   "codemirror_mode": {
    "name": "ipython",
    "version": 3
   },
   "file_extension": ".py",
   "mimetype": "text/x-python",
   "name": "python",
   "nbconvert_exporter": "python",
   "pygments_lexer": "ipython3",
   "version": "3.7.7"
  }
 },
 "nbformat": 4,
 "nbformat_minor": 2
}
