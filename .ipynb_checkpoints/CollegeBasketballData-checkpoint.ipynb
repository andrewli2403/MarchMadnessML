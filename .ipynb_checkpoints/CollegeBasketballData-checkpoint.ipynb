{
 "cells": [
  {
   "cell_type": "markdown",
   "metadata": {},
   "source": [
    "# My College Basketball Data"
   ]
  },
  {
   "cell_type": "code",
   "execution_count": 1,
   "metadata": {
    "_cell_guid": "ebe4d9b1-4e85-4fb3-b5e4-12bbcbb5895a",
    "_uuid": "c3fbebe91360895038d3a38c04f74729b6fa314e"
   },
   "outputs": [],
   "source": [
    "import csv\n",
    "import numpy as np\n",
    "import torch "
   ]
  },
  {
   "cell_type": "code",
   "execution_count": 2,
   "metadata": {},
   "outputs": [],
   "source": [
    "#set up dictionary for team number and team name\n",
    "teamidentities = {}\n",
    "with open('Teams.csv') as csvfile:\n",
    "    readCSV = csv.reader(csvfile, delimiter=',')\n",
    "    \n",
    "    for row in readCSV:\n",
    "        teamidentities.update({row[0]: row[1]})\n",
    "    \n",
    "    #deletes first key \n",
    "    del teamidentities[\"Team_Id\"]"
   ]
  },
  {
   "cell_type": "code",
   "execution_count": 3,
   "metadata": {},
   "outputs": [],
   "source": [
    "#read and data split tourney seeds\n",
    "#1985-2017\n",
    "\n",
    "Seeds = {}\n",
    "\n",
    "with open('TourneySeeds.csv') as csvfile:\n",
    "    readCSV = csv.reader(csvfile, delimiter=',')\n",
    "    \n",
    "    #skips header line\n",
    "    \n",
    "    #{row[1] = 'Seed': {row[0] = 'Season': row[2] = 'Team'}\n",
    "    for row in readCSV:\n",
    "        #takes numbers in the seedings\n",
    "        #row[0] = int(row[0])\n",
    "        #row[2] = int(row[2])\n",
    "        \n",
    "        if row[0] in Seeds.keys():\n",
    "            Seeds[row[0]].update({row[2]: row[1]})\n",
    "        else:\n",
    "            Seeds[row[0]] = {}\n",
    "            Seeds[row[0]].update({row[2]: row[1]})\n",
    "        "
   ]
  },
  {
   "cell_type": "code",
   "execution_count": 4,
   "metadata": {},
   "outputs": [],
   "source": [
    "#create three seperate datasets: trainingSet, testSet, validationSet\n",
    "#dataSplit function organizes three datasets\n",
    "\n",
    "trainingSet = []\n",
    "testSet = []\n",
    "validationSet = []\n",
    "\n",
    "def dataSplit():\n",
    "    for row in readCSV:\n",
    "        if row[0] == \"2014\":\n",
    "            testSet.append(row)\n",
    "        elif row[0] == \"2015\":\n",
    "            validationSet.append(row)\n",
    "        else:\n",
    "            trainingSet.append(row)"
   ]
  },
  {
   "cell_type": "code",
   "execution_count": 5,
   "metadata": {
    "scrolled": false
   },
   "outputs": [],
   "source": [
    "#read and data split regular season stats\n",
    "#2003-2015\n",
    "#trainingSet is 2003-2013\n",
    "#testSet is 2014\n",
    "#validationSet 2015\n",
    "\n",
    "with open('RegularSeasonDetailedResults.csv') as csvfile:\n",
    "    readCSV = csv.reader(csvfile, delimiter=',')\n",
    "    \n",
    "    dataSplit()"
   ]
  },
  {
   "cell_type": "code",
   "execution_count": 6,
   "metadata": {
    "scrolled": false
   },
   "outputs": [],
   "source": [
    "#read and data split tournament stats\n",
    "#2003-2016\n",
    "#trainingSet is 2003-2013\n",
    "#testSet is 2014\n",
    "#validationSet 2015-2016\n",
    "\n",
    "with open('TourneyDetailedResults.csv') as csvfile:\n",
    "    readCSV = csv.reader(csvfile, delimiter=',')\n",
    "    \n",
    "    dataSplit()\n",
    "\n",
    "del (trainingSet[0])\n",
    "del (trainingSet[65920])\n",
    "\n",
    "#used dataSplit() to assemble trainingDataSet, testDataSet, validationDataSet by combining data from RegularSeasonedDetailedResults.csv and TourneyDetailedResults\n",
    "#trainingDataSet made up of data from RSDR years of 2003-2013 and TDR years 2003-2013, 2016\n",
    "#testDataSet made up of data from RSDR years 2014 and TDR years 2014\n",
    "#validationDataSet made up of data from RSDR years 2015 and TDR years 2015"
   ]
  },
  {
   "cell_type": "code",
   "execution_count": 7,
   "metadata": {},
   "outputs": [],
   "source": [
    "#create a function to add the seeds at the end of the game array\n",
    "def addSeeds(dataSet):\n",
    "    for game in dataSet:\n",
    "        season = game[0]\n",
    "        team_id1 = game[2]\n",
    "        team_id2 = game[4]\n",
    "   \n",
    "        #no seed for the team in particular year due to no qualification to March Madness warrants a automatic seeding of 16\n",
    "        if(season not in Seeds.keys() or team_id1 not in Seeds[season].keys()):\n",
    "            seed1 = 16;\n",
    "        else:\n",
    "            seed1 = Seeds[season][team_id1]\n",
    "            #deleting the letters from the seedings\n",
    "            seed1 = seed1[1:]\n",
    "            if len(seed1) == 3:\n",
    "                seed1 = seed1[:-1]\n",
    "                \n",
    "        \n",
    "        if(season not in Seeds.keys() or team_id2 not in Seeds[season].keys()):\n",
    "            seed2 = 16;\n",
    "        else:\n",
    "            seed2 = Seeds[season][team_id2]\n",
    "            #deleting the letters from the seedings\n",
    "            seed2 = seed2[1:]\n",
    "            if len(seed2) == 3:\n",
    "                seed2 = seed2[:-1]\n",
    "\n",
    "        game.append(seed1)\n",
    "        game.append(seed2)\n",
    "\n",
    "#add seeds to trainingSet, testSet, validationSet\n",
    "addSeeds(trainingSet)  \n",
    "addSeeds(testSet)\n",
    "addSeeds(validationSet)"
   ]
  },
  {
   "cell_type": "code",
   "execution_count": 8,
   "metadata": {},
   "outputs": [
    {
     "name": "stdout",
     "output_type": "stream",
     "text": [
      "36\n",
      "36\n",
      "36\n"
     ]
    }
   ],
   "source": [
    "print(len(trainingSet[0]))\n",
    "print(len(testSet[0]))\n",
    "print(len(validationSet[0]))"
   ]
  },
  {
   "cell_type": "code",
   "execution_count": 9,
   "metadata": {
    "scrolled": true
   },
   "outputs": [],
   "source": [
    "#extracting features for each DataSet\n",
    "#first half of the feature vector is winning team stats and last half is losing team stats\n",
    "#features taken out: [Wteam (row[2]), Wseed, Wfgm, Wfga, Wfgm3, Wfga3, Wftm, Wfta, Wor, Wdr, Wast, Wto, Wstl, Wblk, Wpf, Lteam(row[4],), Lseed, Lfgm, Lfga, Lfgm3, Lfga3, Lftm, Lfta, Lor, Ldr, Last, Lto, Lstl, Lblk, Lpf]\n",
    "#score is not taken into account\n",
    "\n",
    "\n",
    "#function to featureExtract\n",
    "def featureExtract(dataSetArray):\n",
    "    featureExtractArray = []\n",
    "    for i, row in enumerate(dataSetArray):\n",
    "        test = [row[34], row[8], row[9], row[10], row[11], row[12], row[13], row[14], row[15], row[16], row[17], row[18], row[19], row[20], row[35], row[21], row[22], row[23], row[24], row[25], row[26], row[27], row[28], row[29], row[30], row[31], row[32], row[33]]\n",
    "        \n",
    "        try:\n",
    "        \n",
    "            test = [float(ele) for ele in test]\n",
    "        except:\n",
    "            print(i, test)\n",
    "        featureExtractArray.append(test)\n",
    "    return featureExtractArray[1:].copy()\n",
    "    #print(featureExtractArray)\n",
    "    \n",
    "#trainingSet feature extraction\n",
    "featurestrainingSet = featureExtract(trainingSet)\n",
    "\n",
    "#testSet feature extraction\n",
    "featurestestSet = featureExtract(testSet)\n",
    "\n",
    "#validationSet feature extraction\n",
    "featuresvalidationSet = featureExtract(validationSet)"
   ]
  },
  {
   "cell_type": "code",
   "execution_count": 10,
   "metadata": {},
   "outputs": [
    {
     "name": "stdout",
     "output_type": "stream",
     "text": [
      "28\n",
      "28\n",
      "28\n"
     ]
    }
   ],
   "source": [
    "print(len(featurestrainingSet[0]))\n",
    "print(len(featurestestSet[0]))\n",
    "print(len(featuresvalidationSet[0]))"
   ]
  },
  {
   "cell_type": "code",
   "execution_count": 11,
   "metadata": {},
   "outputs": [
    {
     "name": "stdout",
     "output_type": "stream",
     "text": [
      "[[7.0, 26.0, 62.0, 8.0, 20.0, 10.0, 19.0, 15.0, 28.0, 16.0, 13.0, 4.0, 4.0, 18.0, 3.0, 24.0, 67.0, 6.0, 24.0, 9.0, 20.0, 20.0, 25.0, 7.0, 12.0, 8.0, 6.0, 16.0], [3.0, 24.0, 58.0, 8.0, 18.0, 17.0, 29.0, 17.0, 26.0, 15.0, 10.0, 5.0, 2.0, 25.0, 16.0, 22.0, 73.0, 3.0, 26.0, 14.0, 23.0, 31.0, 22.0, 9.0, 12.0, 2.0, 5.0, 23.0], [16.0, 18.0, 38.0, 3.0, 9.0, 17.0, 31.0, 6.0, 19.0, 11.0, 12.0, 14.0, 2.0, 18.0, 16.0, 18.0, 49.0, 6.0, 22.0, 8.0, 15.0, 17.0, 20.0, 9.0, 19.0, 4.0, 3.0, 23.0], [16.0, 24.0, 62.0, 6.0, 16.0, 17.0, 27.0, 21.0, 15.0, 12.0, 10.0, 7.0, 1.0, 14.0, 1.0, 30.0, 61.0, 6.0, 14.0, 11.0, 13.0, 17.0, 22.0, 12.0, 14.0, 4.0, 4.0, 20.0], [5.0, 26.0, 57.0, 6.0, 12.0, 23.0, 27.0, 12.0, 24.0, 12.0, 9.0, 9.0, 3.0, 18.0, 16.0, 20.0, 46.0, 3.0, 11.0, 12.0, 17.0, 6.0, 22.0, 8.0, 19.0, 4.0, 3.0, 25.0], [14.0, 23.0, 55.0, 2.0, 8.0, 32.0, 39.0, 13.0, 18.0, 14.0, 17.0, 11.0, 1.0, 25.0, 16.0, 19.0, 41.0, 4.0, 15.0, 20.0, 28.0, 9.0, 21.0, 11.0, 30.0, 10.0, 4.0, 28.0], [16.0, 28.0, 62.0, 4.0, 14.0, 15.0, 21.0, 13.0, 35.0, 19.0, 19.0, 7.0, 2.0, 21.0, 16.0, 20.0, 59.0, 4.0, 17.0, 17.0, 23.0, 8.0, 25.0, 10.0, 15.0, 14.0, 8.0, 18.0], [16.0, 24.0, 52.0, 6.0, 18.0, 12.0, 27.0, 13.0, 26.0, 13.0, 25.0, 8.0, 2.0, 18.0, 16.0, 28.0, 58.0, 5.0, 11.0, 10.0, 18.0, 9.0, 22.0, 9.0, 17.0, 9.0, 2.0, 23.0], [16.0, 23.0, 52.0, 3.0, 14.0, 7.0, 12.0, 9.0, 23.0, 10.0, 18.0, 1.0, 3.0, 18.0, 5.0, 32.0, 67.0, 5.0, 17.0, 15.0, 19.0, 14.0, 22.0, 11.0, 6.0, 12.0, 0.0, 13.0], [16.0, 17.0, 52.0, 4.0, 11.0, 12.0, 17.0, 8.0, 15.0, 8.0, 17.0, 7.0, 3.0, 15.0, 6.0, 41.0, 69.0, 15.0, 25.0, 9.0, 13.0, 15.0, 29.0, 21.0, 11.0, 10.0, 6.0, 16.0]]\n",
      "[0 0 0 1 0 0 0 1 1 1]\n"
     ]
    }
   ],
   "source": [
    "#making labels\n",
    "\n",
    "#randomization of winning and losing team statistics from feature trainingDataSet\n",
    "labelstrainingSet = np.random.randint(2, size = len(featurestrainingSet))\n",
    "#30 elements in featuretrainingDataSet\n",
    "\n",
    "# randomization of winning and losing team statistics from feature testDataSet\n",
    "labelstestSet = np.random.randint(2, size = len(featurestestSet))\n",
    "\n",
    "#randomization of winning and losing team statistics from feature validationDataSet\n",
    "labelsvalidationSet = np.random.randint(2, size = len(featuresvalidationSet))\n",
    "\n",
    "n_feat = len(featurestrainingSet[0])\n",
    "assert n_feat % 2 == 0\n",
    "\n",
    "#randomization function flips the back half of the data if corresponding label is a 1\n",
    "def randomization(labelList, originalDataSet):\n",
    "    randomizedDataSet = []\n",
    "    for i, do_flip in enumerate(labelList):    \n",
    "        #if its a 1 that means the back half won so flip\n",
    "        x = originalDataSet[i] \n",
    "        if do_flip == 1:   \n",
    "            x_rand = x[n_feat // 2:] + x[0:n_feat // 2]\n",
    "        else:\n",
    "            x_rand = x\n",
    "        randomizedDataSet.append(x_rand)\n",
    "    return randomizedDataSet\n",
    "\n",
    "randomizedfeaturetrainingSet = randomization(labelstrainingSet, featurestrainingSet)\n",
    "randomizedfeaturetestSet = randomization(labelstestSet, featurestestSet)\n",
    "randomizedfeaturevalidationSet = randomization(labelsvalidationSet, featuresvalidationSet)\n",
    "\n",
    "#test case\n",
    "print(randomizedfeaturetrainingSet[0:10])\n",
    "print(labelstrainingSet[0:10])"
   ]
  },
  {
   "cell_type": "code",
   "execution_count": 12,
   "metadata": {},
   "outputs": [
    {
     "name": "stdout",
     "output_type": "stream",
     "text": [
      "28\n",
      "28\n",
      "28\n"
     ]
    }
   ],
   "source": [
    "print(len(randomizedfeaturetrainingSet[0]))\n",
    "print(len(randomizedfeaturetestSet[0]))\n",
    "print(len(randomizedfeaturevalidationSet[0]))"
   ]
  },
  {
   "cell_type": "code",
   "execution_count": 13,
   "metadata": {},
   "outputs": [],
   "source": [
    "#pull labels out and then flip the respecitve lists within the data set corresponding to the data set\n",
    "#save the array into np and then turn into torch\n",
    "#implement logistical reggression"
   ]
  },
  {
   "cell_type": "code",
   "execution_count": 14,
   "metadata": {},
   "outputs": [],
   "source": [
    "#converts to numpy array and pytorch array\n",
    "def PytorchArray (labels, randomizedDataSet):\n",
    "    randomizedDataSet_np = np.array(randomizedDataSet).astype(np.float32)\n",
    "    labels_np = np.array(labels)\n",
    "    randomizedDataSet_pytorch = torch.from_numpy(randomizedDataSet_np)\n",
    "    labels_pytorch = torch.from_numpy(labels_np)    \n",
    "    return randomizedDataSet_pytorch, labels_pytorch\n",
    "\n",
    "#assigns variables names to pytorch array\n",
    "featurestrainingData_pytorch, labelstrainingData_pytorch = PytorchArray(labelstrainingSet, randomizedfeaturetrainingSet)\n",
    "featurestestData_pytorch, labelstestData_pytorch = PytorchArray(labelstestSet, randomizedfeaturetestSet)\n",
    "featuresvalidationData_pytorch, labelsvalidationData_pytorch = PytorchArray(labelsvalidationSet, randomizedfeaturevalidationSet)\n",
    "\n",
    "#save data sets pytorch array\n",
    "torch.save(featurestrainingData_pytorch, 'featurestraining_pytorch.pt')\n",
    "torch.save(featurestestData_pytorch, 'featurestest_pytorch.pt')\n",
    "torch.save(featuresvalidationData_pytorch, 'featuresvalidation_pytorch.pt')\n",
    "\n",
    "#save labels pytorch array\n",
    "torch.save(labelstrainingData_pytorch, 'labelstraining_pytorch.pt')\n",
    "torch.save(labelstestData_pytorch, 'labelstest_pytorch.pt')\n",
    "torch.save(labelsvalidationData_pytorch, 'labelsvalidation_pytorch.pt')"
   ]
  },
  {
   "cell_type": "code",
   "execution_count": null,
   "metadata": {},
   "outputs": [],
   "source": []
  }
 ],
 "metadata": {
  "kernelspec": {
   "display_name": "Python 3",
   "language": "python",
   "name": "python3"
  },
  "language_info": {
   "codemirror_mode": {
    "name": "ipython",
    "version": 3
   },
   "file_extension": ".py",
   "mimetype": "text/x-python",
   "name": "python",
   "nbconvert_exporter": "python",
   "pygments_lexer": "ipython3",
   "version": "3.7.1"
  }
 },
 "nbformat": 4,
 "nbformat_minor": 1
}
