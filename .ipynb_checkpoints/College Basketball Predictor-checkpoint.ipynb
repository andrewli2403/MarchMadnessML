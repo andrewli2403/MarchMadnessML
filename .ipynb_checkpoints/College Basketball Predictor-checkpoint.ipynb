{
 "cells": [
  {
   "cell_type": "markdown",
   "metadata": {},
   "source": [
    "# Tutorial Adaptation of \n",
    "https://github.com/yunjey/pytorch-tutorial/blob/master/tutorials/01-basics/logistic_regression/main.py"
   ]
  },
  {
   "cell_type": "code",
   "execution_count": 1,
   "metadata": {
    "_cell_guid": "ebe4d9b1-4e85-4fb3-b5e4-12bbcbb5895a",
    "_uuid": "c3fbebe91360895038d3a38c04f74729b6fa314e"
   },
   "outputs": [],
   "source": [
    "#data from 2018\n",
    "#team = [wins, losses, strength of schedule, rating percentage index, home wins, home loss, away win, away loss, neutral win, neutral loss]\n",
    "kansas = [18, 6, .6599, .6844, 14, 0, 1, 6, 3, 0]\n",
    "kansasstate = []"
   ]
  },
  {
   "cell_type": "code",
   "execution_count": 4,
   "metadata": {
    "collapsed": true
   },
   "outputs": [],
   "source": []
  },
  {
   "cell_type": "code",
   "execution_count": null,
   "metadata": {},
   "outputs": [],
   "source": []
  },
  {
   "cell_type": "code",
   "execution_count": 5,
   "metadata": {
    "collapsed": true
   },
   "outputs": [],
   "source": []
  },
  {
   "cell_type": "code",
   "execution_count": null,
   "metadata": {
    "_cell_guid": "580b6b55-14fd-4722-a88e-73ded4bb9de0",
    "_uuid": "46f7080ca5073f052f71ebd72e214e89135dbbb4"
   },
   "outputs": [],
   "source": [
    "\n"
   ]
  },
  {
   "cell_type": "code",
   "execution_count": null,
   "metadata": {
    "collapsed": true
   },
   "outputs": [],
   "source": []
  }
 ],
 "metadata": {
  "kernelspec": {
   "display_name": "Python 3",
   "language": "python",
   "name": "python3"
  },
  "language_info": {
   "codemirror_mode": {
    "name": "ipython",
    "version": 3
   },
   "file_extension": ".py",
   "mimetype": "text/x-python",
   "name": "python",
   "nbconvert_exporter": "python",
   "pygments_lexer": "ipython3",
   "version": "3.7.1"
  }
 },
 "nbformat": 4,
 "nbformat_minor": 1
}
