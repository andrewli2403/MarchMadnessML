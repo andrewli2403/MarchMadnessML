{
 "cells": [
  {
   "cell_type": "markdown",
   "metadata": {},
   "source": [
    "# My College Basketball Data"
   ]
  },
  {
   "cell_type": "code",
   "execution_count": 10,
   "metadata": {
    "_cell_guid": "ebe4d9b1-4e85-4fb3-b5e4-12bbcbb5895a",
    "_uuid": "c3fbebe91360895038d3a38c04f74729b6fa314e"
   },
   "outputs": [],
   "source": [
    "#import\n",
    "import csv\n",
    "import numpy as np\n",
    "import torch "
   ]
  },
  {
   "cell_type": "code",
   "execution_count": 11,
   "metadata": {},
   "outputs": [],
   "source": [
    "#set up dictionary for team number and team name\n",
    "teamidentities = {}\n",
    "with open('Teams.csv') as csvfile:\n",
    "    readCSV = csv.reader(csvfile, delimiter=',')\n",
    "    \n",
    "    for row in readCSV:\n",
    "        teamidentities.update( {row[0]: row[1]})\n",
    "    \n",
    "    #deletes first key \n",
    "    del teamidentities[\"Team_Id\"]"
   ]
  },
  {
   "cell_type": "code",
   "execution_count": 12,
   "metadata": {},
   "outputs": [],
   "source": [
    "#read and data split tourney seeds\n",
    "#1985-2017\n",
    "\n",
    "trainingSetSeeds = []\n",
    "testSetSeeds = []\n",
    "validationSetSeeds = []\n",
    "\n",
    "with open('TourneySeeds.csv') as csvfile:\n",
    "    readCSV = csv.reader(csvfile, delimiter=',')\n",
    "   \n",
    "    for row in readCSV:\n",
    "        if row[0] == \"2016\":\n",
    "            testSetSeeds.append(row)\n",
    "        elif row[0] == \"2017\":\n",
    "            validationSetSeeds.append(row)\n",
    "        else:\n",
    "            trainingSetSeeds.append(row)"
   ]
  },
  {
   "cell_type": "code",
   "execution_count": 13,
   "metadata": {
    "scrolled": false
   },
   "outputs": [],
   "source": [
    "#read and data split regular season stats\n",
    "#2003-2015\n",
    "#trainingSet is 2003-2013\n",
    "#testSet is 2014\n",
    "#validationSet 2015\n",
    "\n",
    "trainingSet = []\n",
    "testSet = []\n",
    "validationSet = []\n",
    "\n",
    "def dataSplit():\n",
    "    for row in readCSV:\n",
    "        if row[0] == \"2014\":\n",
    "            testSet.append(row)\n",
    "        elif row[0] == \"2015\":\n",
    "            validationSet.append(row)\n",
    "        else:\n",
    "            trainingSet.append(row)\n",
    "\n",
    "with open('RegularSeasonDetailedResults.csv') as csvfile:\n",
    "    readCSV = csv.reader(csvfile, delimiter=',')\n",
    "    \n",
    "    dataSplit()"
   ]
  },
  {
   "cell_type": "code",
   "execution_count": 14,
   "metadata": {
    "scrolled": true
   },
   "outputs": [],
   "source": [
    "#read and data split tournament stats\n",
    "#2003-2016\n",
    "\n",
    "remainingDataSet = []\n",
    "with open('TourneyDetailedResults.csv') as csvfile:\n",
    "    readCSV = csv.reader(csvfile, delimiter=',')\n",
    "    \n",
    "    dataSplit()\n",
    "\n",
    "#used dataSplit() to assemble trainingDataSet, testDataSet, validationDataSet by combining data from RegularSeasonedDetailedResults.csv and TourneyDetailedResults\n",
    "#trainingDataSet made up of data from RSDR years of 2003-2013 and TDR years 2003-2013, 2016\n",
    "#testDataSet made up of data from RSDR years 2014 and TDR years 2014\n",
    "#validationDataSet made up of data from RSDR years 2015 and TDR years 2015\n",
    "\n",
    "#delete these lists because they are strings not numbers\n",
    "del trainingSet[0]\n",
    "del trainingSet[65920]"
   ]
  },
  {
   "cell_type": "code",
   "execution_count": 15,
   "metadata": {
    "scrolled": true
   },
   "outputs": [],
   "source": [
    "#extracting features for each DataSet\n",
    "#first half of the feature vector is winning team stats and last half is losing team stats\n",
    "#features taken out: [Wteam, Wfgm, Wfga, Wfgm3, Wfga3, Wftm, Wfta, Wor, Wdr, Wast, Wto, Wstl, Wblk, Wpf, Lteam, Lfgm, Lfga, Lfgm3, Lfga3, Lftm, Lfta, Lor, Ldr, Last, Lto, Lstl, Lblk, Lpf]\n",
    "#score is not taken into account\n",
    "\n",
    "#function to featureExtract\n",
    "def featureExtract(dataSetArray):\n",
    "    featureExtractArray = []\n",
    "    for i, row in enumerate(dataSetArray):\n",
    "        test = [row[2], row[8], row[9], row[10], row[11], row[12], row[13], row[14], row[15], row[16], row[17], row[18], row[19], row[20], row[4], row[21], row[22], row[23], row[24], row[25], row[26], row[27], row[28], row[29], row[30], row[31], row[32], row[33]]\n",
    "        \n",
    "        try:\n",
    "        \n",
    "            test = [float(ele) for ele in test]\n",
    "        except:\n",
    "            print(i, test)\n",
    "        featureExtractArray.append(test)\n",
    "    return featureExtractArray[1:].copy()\n",
    "    #print(featureExtractArray)\n",
    "    \n",
    "#trainingSet feature extraction\n",
    "featurestrainingSet = featureExtract(trainingSet)\n",
    "\n",
    "#testSet feature extraction\n",
    "featurestestSet = featureExtract(testSet)\n",
    "\n",
    "#validationSet feature extraction\n",
    "featuresvalidationSet = featureExtract(validationSet)"
   ]
  },
  {
   "cell_type": "code",
   "execution_count": 16,
   "metadata": {},
   "outputs": [
    {
     "name": "stdout",
     "output_type": "stream",
     "text": [
      "[1393.0, 24.0, 67.0, 6.0, 24.0, 9.0, 20.0, 20.0, 25.0, 7.0, 12.0, 8.0, 6.0, 16.0, 1272.0, 26.0, 62.0, 8.0, 20.0, 10.0, 19.0, 15.0, 28.0, 16.0, 13.0, 4.0, 4.0, 18.0]\n",
      "1\n"
     ]
    }
   ],
   "source": [
    "#making labels\n",
    "\n",
    "#randomization of winning and losing team statistics from feature trainingDataSet\n",
    "labelstrainingSet = np.random.randint(2, size = len(featurestrainingSet))\n",
    "#28 elements in featuretrainingDataSet\n",
    "\n",
    "# randomization of winning and losing team statistics from feature testDataSet\n",
    "labelstestSet = np.random.randint(2, size = len(featurestestSet))\n",
    "\n",
    "#randomization of winning and losing team statistics from feature validationDataSet\n",
    "labelsvalidationSet = np.random.randint(2, size = len(featuresvalidationSet))\n",
    "\n",
    "n_feat = len(featurestrainingSet[0])\n",
    "assert n_feat % 2 == 0\n",
    "\n",
    "#randomization function flips the back half of the data if corresponding label is a 1\n",
    "def randomization(labelList, originalDataSet):\n",
    "    randomizedDataSet = []\n",
    "    for i, do_flip in enumerate(labelList):    \n",
    "        #if its a 1 that means the back half won so flip\n",
    "        x = originalDataSet[i] \n",
    "        if do_flip == 1:   \n",
    "            x_rand = x[n_feat // 2:] + x[0:n_feat // 2]\n",
    "        else:\n",
    "            x_rand = x\n",
    "        randomizedDataSet.append(x_rand)\n",
    "    return randomizedDataSet\n",
    "\n",
    "randomizedfeaturetrainingSet = randomization(labelstrainingSet, featurestrainingSet)\n",
    "randomizedfeaturetestSet = randomization(labelstestSet, featurestestSet)\n",
    "randomizedfeaturevalidationSet = randomization(labelsvalidationSet, featuresvalidationSet)\n",
    "\n",
    "#test case\n",
    "print(randomizedfeaturetrainingSet[0])\n",
    "print(labelstrainingSet[0])"
   ]
  },
  {
   "cell_type": "code",
   "execution_count": 17,
   "metadata": {},
   "outputs": [],
   "source": [
    "#pull labels out and then flip the respecitve lists within the data set corresponding to the data set\n",
    "#save the array into np and then turn into torch\n",
    "#implement logistical reggression"
   ]
  },
  {
   "cell_type": "code",
   "execution_count": 21,
   "metadata": {},
   "outputs": [],
   "source": [
    "#converts to numpy array and pytorch array\n",
    "def PytorchArray (labels, randomizedDataSet):\n",
    "    randomizedDataSet_np = np.array(randomizedDataSet).astype(np.float32)\n",
    "    labels_np = np.array(labels)\n",
    "    randomizedDataSet_pytorch = torch.from_numpy(randomizedDataSet_np)\n",
    "    labels_pytorch = torch.from_numpy(labels_np)    \n",
    "    return randomizedDataSet_pytorch, labels_pytorch\n",
    "\n",
    "#assigns variables names to pytorch array\n",
    "featurestrainingData_pytorch, labelstrainingData_pytorch = PytorchArray(labelstrainingSet, randomizedfeaturetrainingSet)\n",
    "featurestestData_pytorch, labelstestData_pytorch = PytorchArray(labelstestSet, randomizedfeaturetestSet)\n",
    "featuresvalidationData_pytorch, labelsvalidationData_pytorch = PytorchArray(labelsvalidationSet, randomizedfeaturevalidationSet)\n",
    "\n",
    "#save data sets pytorch array\n",
    "torch.save(featurestrainingData_pytorch, 'featurestraining_pytorch.pt')\n",
    "torch.save(featurestestData_pytorch, 'featurestest_pytorch.pt')\n",
    "torch.save(featuresvalidationData_pytorch, 'featuresvalidation_pytorch.pt')\n",
    "\n",
    "#save labels pytorch array\n",
    "torch.save(labelstrainingData_pytorch, 'labelstraining_pytorch.pt')\n",
    "torch.save(labelstestData_pytorch, 'labelstest_pytorch.pt')\n",
    "torch.save(labelsvalidationData_pytorch, 'labelsvalidation_pytorch.pt')"
   ]
  }
 ],
 "metadata": {
  "kernelspec": {
   "display_name": "Python 3",
   "language": "python",
   "name": "python3"
  },
  "language_info": {
   "codemirror_mode": {
    "name": "ipython",
    "version": 3
   },
   "file_extension": ".py",
   "mimetype": "text/x-python",
   "name": "python",
   "nbconvert_exporter": "python",
   "pygments_lexer": "ipython3",
   "version": "3.7.1"
  }
 },
 "nbformat": 4,
 "nbformat_minor": 1
}
