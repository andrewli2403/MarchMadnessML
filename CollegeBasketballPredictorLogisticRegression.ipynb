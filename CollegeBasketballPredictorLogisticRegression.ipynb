{
 "cells": [
  {
   "cell_type": "code",
   "execution_count": null,
   "metadata": {},
   "outputs": [],
   "source": [
    "#import\n",
    "import torch "
   ]
  },
  {
   "cell_type": "code",
   "execution_count": null,
   "metadata": {},
   "outputs": [],
   "source": [
    "#load in processed data from CollegeBasketballPredictor.ipynb\n",
    "\n",
    "#features from training, test, validation sets\n",
    "featurestrainingData = torch.load('featurestraining_pytorch.pt')\n",
    "featurestestData = torch.load('featurestest_pytorch.pt')\n",
    "featuresvalidationData = torch.load('featuresvalidation_pytorch.pt')\n",
    "\n",
    "#labels from training, test, validation sets\n",
    "labelstrainingData = torch.load('labelstraining_pytorch.pt')\n",
    "labelstestData = torch.load('labelstest_pytorch.pt')\n",
    "labelsvalidationData = torc"
   ]
  }
 ],
 "metadata": {
  "kernelspec": {
   "display_name": "Python 3",
   "language": "python",
   "name": "python3"
  },
  "language_info": {
   "codemirror_mode": {
    "name": "ipython",
    "version": 3
   },
   "file_extension": ".py",
   "mimetype": "text/x-python",
   "name": "python",
   "nbconvert_exporter": "python",
   "pygments_lexer": "ipython3",
   "version": "3.7.1"
  }
 },
 "nbformat": 4,
 "nbformat_minor": 2
}
