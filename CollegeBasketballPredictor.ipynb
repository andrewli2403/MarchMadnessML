{
 "cells": [
  {
   "cell_type": "markdown",
   "metadata": {},
   "source": [
    "# My College Basketball Data"
   ]
  },
  {
   "cell_type": "code",
   "execution_count": 1,
   "metadata": {
    "_cell_guid": "ebe4d9b1-4e85-4fb3-b5e4-12bbcbb5895a",
    "_uuid": "c3fbebe91360895038d3a38c04f74729b6fa314e"
   },
   "outputs": [],
   "source": [
    "#import\n",
    "import csv\n",
    "import numpy as np\n",
    "import torch "
   ]
  },
  {
   "cell_type": "code",
   "execution_count": 2,
   "metadata": {},
   "outputs": [],
   "source": [
    "#set up dictionary for team number and team name\n",
    "teamidentities = {}\n",
    "with open('Teams.csv') as csvfile:\n",
    "    readCSV = csv.reader(csvfile, delimiter=',')\n",
    "    \n",
    "    for row in readCSV:\n",
    "        teamidentities.update( {row[0]: row[1]})\n",
    "    \n",
    "    #deletes first key \n",
    "    del teamidentities[\"Team_Id\"]\n",
    "    \n",
    "    #print(teamidentities)"
   ]
  },
  {
   "cell_type": "code",
   "execution_count": 3,
   "metadata": {},
   "outputs": [],
   "source": [
    "#read and data split tourney seeds\n",
    "#1985-2017\n",
    "\n",
    "trainingDataSetSeeds = []\n",
    "testDataSetSeeds = []\n",
    "validationDataSetSeeds = []\n",
    "\n",
    "with open('TourneySeeds.csv') as csvfile:\n",
    "    readCSV = csv.reader(csvfile, delimiter=',')\n",
    "   \n",
    "    for row in readCSV:\n",
    "        if row[0] == \"2016\":\n",
    "            testDataSetSeeds.append(row)\n",
    "        elif row[0] == \"2017\":\n",
    "            validationDataSetSeeds.append(row)\n",
    "        else:\n",
    "            trainingDataSetSeeds.append(row)\n",
    "            \n",
    "#     print(trainingDataSetSeeds)\n",
    "#     print(testDataSetSeeds)\n",
    "#     print(validationDataSetSeeds)"
   ]
  },
  {
   "cell_type": "code",
   "execution_count": 4,
   "metadata": {
    "scrolled": false
   },
   "outputs": [],
   "source": [
    "#read and data split regular season stats\n",
    "#2003-2015\n",
    "\n",
    "trainingDataSet = []\n",
    "testDataSet = []\n",
    "validationDataSet = []\n",
    "\n",
    "def dataSplit():\n",
    "    for row in readCSV:\n",
    "        if row[0] == \"2014\":\n",
    "            testDataSet.append(row)\n",
    "        elif row[0] == \"2015\":\n",
    "            validationDataSet.append(row)\n",
    "        else:\n",
    "            trainingDataSet.append(row)\n",
    "            \n",
    "with open('RegularSeasonDetailedResults.csv') as csvfile:\n",
    "    readCSV = csv.reader(csvfile, delimiter=',')\n",
    "    \n",
    "    dataSplit()"
   ]
  },
  {
   "cell_type": "code",
   "execution_count": 5,
   "metadata": {
    "scrolled": true
   },
   "outputs": [],
   "source": [
    "#read and data split tournament stats\n",
    "#2003-2016\n",
    "\n",
    "remainingDataSet = []\n",
    "with open('TourneyDetailedResults.csv') as csvfile:\n",
    "    readCSV = csv.reader(csvfile, delimiter=',')\n",
    "    \n",
    "    dataSplit()\n",
    "\n",
    "#used dataSplit() to assemble trainingDataSet, testDataSet, validationDataSet by combining data from RegularSeasonedDetailedResults.csv and TourneyDetailedResults\n",
    "#trainingDataSet made up of data from RSDR years of 2003-2013 and TDR years 2003-2013, 2016\n",
    "#testDataSet made up of data from RSDR years 2014 and TDR years 2014\n",
    "#validationDataSet made up of data from RSDR years 2015 and TDR years 2015\n",
    "\n",
    "del trainingDataSet[0]\n",
    "del trainingDataSet[65920]\n",
    "# print(trainingDataSet)\n",
    "# print(testDataSet)\n",
    "# print(validationDataSet)\n"
   ]
  },
  {
   "cell_type": "code",
   "execution_count": 6,
   "metadata": {
    "scrolled": true
   },
   "outputs": [],
   "source": [
    "#extracting features for each DataSet\n",
    "#first half of the feature vector is winning team stats and last half is losing team stats\n",
    "#features taken out: [Wteam, Wfgm, Wfga, Wfgm3, Wfga3, Wftm, Wfta, Wor, Wdr, Wast, Wto, Wstl, Wblk, Wpf, Lteam, Lfgm, Lfga, Lfgm3, Lfga3, Lftm, Lfta, Lor, Ldr, Last, Lto, Lstl, Lblk, Lpf]\n",
    "#score is taken out\n",
    "\n",
    "#function to featureExtract\n",
    "def featureExtract(dataSetArray):\n",
    "    featureExtractArray = []\n",
    "    for i, row in enumerate(dataSetArray):\n",
    "        test = [row[2], row[8], row[9], row[10], row[11], row[12], row[13], row[14], row[15], row[16], row[17], row[18], row[19], row[20], row[4], row[21], row[22], row[23], row[24], row[25], row[26], row[27], row[28], row[29], row[30], row[31]]\n",
    "        \n",
    "        try:\n",
    "        \n",
    "            test = [float(ele) for ele in test]\n",
    "        except:\n",
    "            print(i, test)\n",
    "        featureExtractArray.append(test)\n",
    "    return featureExtractArray[1:].copy()\n",
    "    #print(featureExtractArray)\n",
    "    \n",
    "#trainingDataSet feature extraction\n",
    "featuretrainingDataSet = featureExtract(trainingDataSet)\n",
    "\n",
    "#testDataSet feature extraction\n",
    "featuretestDataSet = featureExtract(testDataSet)\n",
    "\n",
    "#validationDataSet feature extraction\n",
    "featurevalidationDataSet = featureExtract(validationDataSet)"
   ]
  },
  {
   "cell_type": "code",
   "execution_count": 7,
   "metadata": {},
   "outputs": [
    {
     "name": "stdout",
     "output_type": "stream",
     "text": [
      "[1272.0, 26.0, 62.0, 8.0, 20.0, 10.0, 19.0, 15.0, 28.0, 16.0, 13.0, 4.0, 4.0, 18.0, 1393.0, 24.0, 67.0, 6.0, 24.0, 9.0, 20.0, 20.0, 25.0, 7.0, 12.0, 8.0]\n"
     ]
    }
   ],
   "source": [
    "print(featuretrainingDataSet[0])"
   ]
  },
  {
   "cell_type": "code",
   "execution_count": 8,
   "metadata": {},
   "outputs": [
    {
     "name": "stdout",
     "output_type": "stream",
     "text": [
      "[1272.0, 26.0, 62.0, 8.0, 20.0, 10.0, 19.0, 15.0, 28.0, 16.0, 13.0, 4.0, 4.0, 18.0, 1393.0, 24.0, 67.0, 6.0, 24.0, 9.0, 20.0, 20.0, 25.0, 7.0, 12.0, 8.0]\n",
      "[18.0, 1157.0, 23.0, 59.0, 6.0, 14.0, 11.0, 18.0, 15.0, 22.0, 6.0, 20.0, 8.0, 1103.0, 25.0, 59.0, 7.0, 22.0, 15.0, 26.0, 14.0, 24.0, 10.0, 17.0, 13.0, 5.0]\n",
      "[1104.0, 29.0, 63.0, 7.0, 23.0, 17.0, 19.0, 14.0, 20.0, 17.0, 8.0, 14.0, 9.0, 16.0, 1406.0, 18.0, 50.0, 7.0, 21.0, 11.0, 15.0, 14.0, 20.0, 9.0, 22.0, 2.0]\n"
     ]
    }
   ],
   "source": [
    "#randomization of winning and losing team statistics from feature trainingDataSet\n",
    "#new label\n",
    "randomizationLabelsTrainingSet = np.random.randint(2, size = len(featuretrainingDataSet))\n",
    "#26 elements in featuretrainingDataSet\n",
    "\n",
    "# randomization of winning and losing team statistics from feature testDataSet\n",
    "randomizationLabelsTestSet = np.random.randint(2, size = len(featuretestDataSet))\n",
    "\n",
    "#randomization of winning and losing team statistics from feature validationDataSet\n",
    "randomizationLabelsValidationSet = np.random.randint(2, size = len(featurevalidationDataSet))\n",
    "\n",
    "n_feat = len(featuretrainingDataSet[0])\n",
    "assert n_feat % 2 == 0\n",
    "\n",
    "#define as function\n",
    "def randomization(labelList, originalDataSet):\n",
    "    randomizedDataSet = []\n",
    "    for i, do_flip in enumerate(labelList):    \n",
    "        #if its a 1 that means the back half is lost\n",
    "        x = originalDataSet[i] \n",
    "        if do_flip == 1:   \n",
    "            x_rand = x[n_feat // 2:] + x[0:n_feat // 2]\n",
    "        else:\n",
    "            x_rand = x\n",
    "        randomizedDataSet.append(x_rand)\n",
    "    return randomizedDataSet\n",
    "\n",
    "randomizedfeaturetrainingDataSet = randomization(randomizationLabelsTrainingSet,featuretrainingDataSet)\n",
    "randomizedfeaturetestDataSet = randomization(randomizationLabelsTestSet, featuretestDataSet)\n",
    "randomizedfeaturevalidationDataSet = randomization(randomizationLabelsValidationSet,featurevalidationDataSet)\n",
    "\n",
    "#     for i, do_flip in enumerate(randomizationSeedTrainingSet):    \n",
    "#         #if its a 1 that means the back half is wins\n",
    "#         if do_flip == 1:\n",
    "#             x = featuretrainingDataSet[i]        \n",
    "#             x_rand = x[n_feat // 2:] + x[0:n_feat // 2]\n",
    "#         else:\n",
    "#             x_rand = x\n",
    "#         randomizedfeaturetrainingDataSet.append(x_rand)\n",
    "\n",
    "print(randomizedfeaturetrainingDataSet[0])\n",
    "print(randomizedfeaturetestDataSet[0])\n",
    "print(randomizedfeaturevalidationDataSet[0])"
   ]
  },
  {
   "cell_type": "code",
   "execution_count": 10,
   "metadata": {
    "scrolled": false
   },
   "outputs": [
    {
     "name": "stdout",
     "output_type": "stream",
     "text": [
      "[1272.0, 26.0, 62.0, 8.0, 20.0, 10.0, 19.0, 15.0, 28.0, 16.0, 13.0, 4.0, 4.0, 18.0, 1393.0, 24.0, 67.0, 6.0, 24.0, 9.0, 20.0, 20.0, 25.0, 7.0, 12.0, 8.0]\n",
      "0\n"
     ]
    }
   ],
   "source": [
    "print(featuretrainingDataSet[0])\n",
    "print(randomizationLabelsTrainingSet[0])"
   ]
  },
  {
   "cell_type": "code",
   "execution_count": 11,
   "metadata": {},
   "outputs": [],
   "source": [
    "#pull labels out and then flip the respecitve lists within the data set corresponding to the data set\n",
    "#save the array into np and then turn into torch\n",
    "#implement logistical reggression"
   ]
  },
  {
   "cell_type": "code",
   "execution_count": 14,
   "metadata": {},
   "outputs": [],
   "source": [
    "#converts to numpy array and pytorch aeeay\n",
    "def npPytorchArray (randomizedDataSet, randomizedLabels):\n",
    "    x_np = np.array(randomizedDataSet).astype(np.float32)\n",
    "    y_np = np.array(randomizedLabels)\n",
    "    x_pytorch = torch.from_numpy(x_np)\n",
    "    y_pytorch = torch.from_numpy(y_np)    \n",
    "    return x_pytorch, y_pytorch\n",
    "\n",
    "randomizedfeaturetrainingDataSet_pytorch, randomizationLabelsTrainingSet_pytorch = npPytorchArray(randomizedfeaturetrainingDataSet, randomizationLabelsTrainingSet)\n",
    "randomizedfeaturetestDataSet_pytorch, randomizationLabelsTestSet_pytorch = npPytorchArray(randomizedfeaturetestDataSet, randomizationLabelsTestSet)\n",
    "randomizedfeaturevalidationDataSet_pytorch, randomizationLabelsValidationSet_pytorch = npPytorchArray(randomizedfeaturevalidationDataSet, randomizationLabelsValidationSet)\n",
    "\n",
    "#save data set\n",
    "torch.save(randomizedfeaturetrainingDataSet_pytorch, 'randomizedfeaturetraining_pytorch.pt')\n",
    "torch.save(randomizedfeaturetestDataSet_pytorch, 'randomizedfeaturetest_pytorch.pt')\n",
    "torch.save(randomizedfeaturevalidationDataSet_pytorch, 'randomizedfeaturevalidation_pytorch.pt')\n",
    "\n",
    "#save labels\n",
    "torch.save(randomizationLabelsTrainingSet_pytorch, 'randomizedlabelstraining_pytorch.pt')\n",
    "torch.save(randomizationLabelsTestSet_pytorch, 'randomizedlabelstraining_pytorch.pt')\n",
    "torch.save(randomizationLabelsValidationSet_pytorch, 'randomizedlabelstraining_pytorch.pt')\n",
    "\n",
    "# print(y_np.shape)\n",
    "\n",
    "# for i,x in enumerate(featuretrainingDataSet):\n",
    "#     try:\n",
    "#         np.array(x).astype(np.float32)\n",
    "#     except:\n",
    "#         print(i, x)\n"
   ]
  },
  {
   "cell_type": "code",
   "execution_count": null,
   "metadata": {},
   "outputs": [],
   "source": [
    "def train(model, loss, optimizer, x_val, y_val):\n",
    "    x = Variable(x_val, requires_grad=False)\n",
    "    y = Variable(y_val, requires_grad=False)\n",
    "    \n",
    "train()"
   ]
  }
 ],
 "metadata": {
  "kernelspec": {
   "display_name": "Python 3",
   "language": "python",
   "name": "python3"
  },
  "language_info": {
   "codemirror_mode": {
    "name": "ipython",
    "version": 3
   },
   "file_extension": ".py",
   "mimetype": "text/x-python",
   "name": "python",
   "nbconvert_exporter": "python",
   "pygments_lexer": "ipython3",
   "version": "3.7.1"
  }
 },
 "nbformat": 4,
 "nbformat_minor": 1
}
