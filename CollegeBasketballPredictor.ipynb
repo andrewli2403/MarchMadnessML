{
 "cells": [
  {
   "cell_type": "markdown",
   "metadata": {},
   "source": [
    "# My College Basketball Data"
   ]
  },
  {
   "cell_type": "code",
   "execution_count": 34,
   "metadata": {
    "_cell_guid": "ebe4d9b1-4e85-4fb3-b5e4-12bbcbb5895a",
    "_uuid": "c3fbebe91360895038d3a38c04f74729b6fa314e"
   },
   "outputs": [],
   "source": [
    "#import\n",
    "import csv\n",
    "import numpy as np\n",
    "import torch "
   ]
  },
  {
   "cell_type": "code",
   "execution_count": 35,
   "metadata": {},
   "outputs": [],
   "source": [
    "#set up dictionary for team number and team name\n",
    "teamidentities = {}\n",
    "with open('Teams.csv') as csvfile:\n",
    "    readCSV = csv.reader(csvfile, delimiter=',')\n",
    "    \n",
    "    for row in readCSV:\n",
    "        teamidentities.update( {row[0]: row[1]})\n",
    "    \n",
    "    #deletes first key \n",
    "    del teamidentities[\"Team_Id\"]\n",
    "    \n",
    "    #print(teamidentities)"
   ]
  },
  {
   "cell_type": "code",
   "execution_count": 36,
   "metadata": {},
   "outputs": [],
   "source": [
    "#read and data split tourney seeds\n",
    "#1985-2017\n",
    "\n",
    "trainingDataSetSeeds = []\n",
    "testDataSetSeeds = []\n",
    "validationDataSetSeeds = []\n",
    "\n",
    "with open('TourneySeeds.csv') as csvfile:\n",
    "    readCSV = csv.reader(csvfile, delimiter=',')\n",
    "   \n",
    "    for row in readCSV:\n",
    "        if row[0] == \"2016\":\n",
    "            testDataSetSeeds.append(row)\n",
    "        elif row[0] == \"2017\":\n",
    "            validationDataSetSeeds.append(row)\n",
    "        else:\n",
    "            trainingDataSetSeeds.append(row)\n",
    "            \n",
    "#     print(trainingDataSetSeeds)\n",
    "#     print(testDataSetSeeds)\n",
    "#     print(validationDataSetSeeds)"
   ]
  },
  {
   "cell_type": "code",
   "execution_count": 37,
   "metadata": {
    "scrolled": false
   },
   "outputs": [],
   "source": [
    "#read and data split regular season stats\n",
    "#2003-2015\n",
    "\n",
    "trainingDataSet = []\n",
    "testDataSet = []\n",
    "validationDataSet = []\n",
    "\n",
    "def dataSplit():\n",
    "    for row in readCSV:\n",
    "        if row[0] == \"2014\":\n",
    "            testDataSet.append(row)\n",
    "        elif row[0] == \"2015\":\n",
    "            validationDataSet.append(row)\n",
    "        else:\n",
    "            trainingDataSet.append(row)\n",
    "            \n",
    "with open('RegularSeasonDetailedResults.csv') as csvfile:\n",
    "    readCSV = csv.reader(csvfile, delimiter=',')\n",
    "    \n",
    "    dataSplit()"
   ]
  },
  {
   "cell_type": "code",
   "execution_count": 38,
   "metadata": {
    "scrolled": true
   },
   "outputs": [],
   "source": [
    "#read and data split tournament stats\n",
    "#2003-2016\n",
    "\n",
    "remainingDataSet = []\n",
    "with open('TourneyDetailedResults.csv') as csvfile:\n",
    "    readCSV = csv.reader(csvfile, delimiter=',')\n",
    "    \n",
    "    dataSplit()\n",
    "\n",
    "#used dataSplit() to assemble trainingDataSet, testDataSet, validationDataSet by combining data from RegularSeasonedDetailedResults.csv and TourneyDetailedResults\n",
    "#trainingDataSet made up of data from RSDR years of 2003-2013 and TDR years 2003-2013, 2016\n",
    "#testDataSet made up of data from RSDR years 2014 and TDR years 2014\n",
    "#validationDataSet made up of data from RSDR years 2015 and TDR years 2015\n",
    "\n",
    "# print(trainingDataSet)\n",
    "# print(testDataSet)\n",
    "# print(validationDataSet)\n"
   ]
  },
  {
   "cell_type": "code",
   "execution_count": 39,
   "metadata": {},
   "outputs": [],
   "source": [
    "#extracting features for each DataSet\n",
    "#first half of the feature vector is winning team stats and last half is losing team stats\n",
    "#features taken out: [Wteam, Wfgm, Wfga, Wfgm3, Wfga3, Wftm, Wfta, Wor, Wdr, Wast, Wto, Wstl, Wblk, Wpf, Lteam, Lfgm, Lfga, Lfgm3, Lfga3, Lftm, Lfta, Lor, Ldr, Last, Lto, Lstl, Lblk, Lpf]\n",
    "#score is taken out\n",
    "\n",
    "#function to featureExtract\n",
    "def featureExtract(dataSetArray):\n",
    "    featureExtractArray = []\n",
    "    for row in dataSetArray:\n",
    "        featureExtractArray.append([row[2], row[8], row[9], row[10], row[11], row[12], row[13], row[14], row[15], row[16], row[17], row[18], row[19], row[20], row[4], row[21], row[22], row[23], row[24], row[25], row[26], row[27], row[28], row[29], row[30], row[31] ] )\n",
    "    return featureExtractArray[1:].copy()\n",
    "    #print(featureExtractArray)\n",
    "    \n",
    "#trainingDataSet feature extraction\n",
    "featuretrainingDataSet = featureExtract(trainingDataSet)\n",
    "labeltrainingDataSet = [1] * len(featuretrainingDataSet)\n",
    "#print(labeltrainingDataSet)\n",
    "\n",
    "#testDataSet feature extraction\n",
    "featuretestDataSet = featureExtract(testDataSet)\n",
    "labeltestDataSet = [1] * len(featuretestDataSet)\n",
    "\n",
    "#validationDataSet feature extraction\n",
    "featurevalidationDataSet = featureExtract(validationDataSet)\n",
    "labelvalidationDataSet = [1] * len(featurevalidationDataSet)"
   ]
  },
  {
   "cell_type": "code",
   "execution_count": 40,
   "metadata": {},
   "outputs": [
    {
     "name": "stdout",
     "output_type": "stream",
     "text": [
      "['1266', '24', '58', '8', '18', '17', '29', '17', '26', '15', '10', '5', '2', '25', '1437', '22', '73', '3', '26', '14', '23', '31', '22', '9', '12', '2']\n"
     ]
    }
   ],
   "source": [
    "print(featuretrainingDataSet[2])"
   ]
  },
  {
   "cell_type": "code",
   "execution_count": 52,
   "metadata": {},
   "outputs": [
    {
     "name": "stdout",
     "output_type": "stream",
     "text": [
      "['22', '1328', '22', '53', '2', '10', '16', '22', '10', '22', '8', '18', '9', '1104', '27', '58', '3', '14', '11', '18', '14', '24', '13', '23', '7', '1']\n",
      "['18', '1157', '23', '59', '6', '14', '11', '18', '15', '22', '6', '20', '8', '1103', '25', '59', '7', '22', '15', '26', '14', '24', '10', '17', '13', '5']\n",
      "['1104', '29', '63', '7', '23', '17', '19', '14', '20', '17', '8', '14', '9', '16', '1406', '18', '50', '7', '21', '11', '15', '14', '20', '9', '22', '2']\n"
     ]
    }
   ],
   "source": [
    "#randomization of winning and losing team statistics from feature trainingDataSet\n",
    "#new label\n",
    "randomizationSeedTrainingSet = np.random.randint(2, size = len(featuretrainingDataSet))\n",
    "#26 elements in featuretrainingDataSet\n",
    "#print(randomizationSeedTrainingSet)\n",
    "\n",
    "# randomization of winning and losing team statistics from feature testDataSet\n",
    "randomizationSeedTestSet = np.random.randint(2, size = len(featuretestDataSet))\n",
    "\n",
    "#randomization of winning and losing team statistics from feature validationDataSet\n",
    "randomizationSeedValidationSet = np.random.randint(2, size = len(featurevalidationDataSet))\n",
    "\n",
    "n_feat = len(featuretrainingDataSet[0])\n",
    "assert n_feat % 2 == 0\n",
    "\n",
    "#define as function\n",
    "def randomization(labelList, originalDataSet):\n",
    "    randomizedDataSet = []\n",
    "    for i, do_flip in enumerate(labelList):    \n",
    "        #if its a 1 that means the back half is lost\n",
    "        x = originalDataSet[i] \n",
    "        if do_flip == 1:   \n",
    "            x_rand = x[n_feat // 2:] + x[0:n_feat // 2]\n",
    "        else:\n",
    "            x_rand = x\n",
    "        randomizedDataSet.append(x_rand)\n",
    "    return randomizedDataSet\n",
    "\n",
    "randomizedfeaturetrainingDataSet = randomization(randomizationSeedTrainingSet,featuretrainingDataSet)\n",
    "randomizedfeaturetestDataSet = randomization(randomizationSeedTestSet, featuretestDataSet)\n",
    "randomizedfeaturevalidationDataSet = randomization(randomizationSeedValidationSet,featurevalidationDataSet)\n",
    "\n",
    "#     for i, do_flip in enumerate(randomizationSeedTrainingSet):    \n",
    "#         #if its a 1 that means the back half is lost\n",
    "#         if do_flip == 1:\n",
    "#             x = featuretrainingDataSet[i]        \n",
    "#             x_rand = x[n_feat // 2:] + x[0:n_feat // 2]\n",
    "#         else:\n",
    "#             x_rand = x\n",
    "#         randomizedfeaturetrainingDataSet.append(x_rand)\n",
    "            \n",
    "print(randomizedfeaturetrainingDataSet[0])\n",
    "print(randomizedfeaturetestDataSet[0])\n",
    "print(randomizedfeaturevalidationDataSet[0])"
   ]
  },
  {
   "cell_type": "code",
   "execution_count": null,
   "metadata": {
    "scrolled": false
   },
   "outputs": [],
   "source": [
    "print(featuretrainingDataSet[0])"
   ]
  },
  {
   "cell_type": "code",
   "execution_count": null,
   "metadata": {},
   "outputs": [],
   "source": [
    "#pull labels out and then flip the respecitve lists within the data set corresponding to the data set\n",
    "#save the array into np and then turn into torch\n",
    "#implement logistical reggression"
   ]
  },
  {
   "cell_type": "code",
   "execution_count": 16,
   "metadata": {},
   "outputs": [
    {
     "name": "stdout",
     "output_type": "stream",
     "text": [
      "(100,)\n"
     ]
    }
   ],
   "source": [
    "\n",
    "#converts to numpy array\n",
    "x_np = np.array(featuretrainingDataSet[:100]).astype(np.float32)\n",
    "\n",
    "# for i,x in enumerate(featuretrainingDataSet):\n",
    "#     try:\n",
    "#         np.array(x).astype(np.float32)\n",
    "#     except:\n",
    "#         print(i, x)\n",
    "\n",
    "y_np = np.array(labeltrainingDataSet[:100])\n",
    "# print(y_np.shape)"
   ]
  },
  {
   "cell_type": "code",
   "execution_count": 28,
   "metadata": {},
   "outputs": [
    {
     "name": "stdout",
     "output_type": "stream",
     "text": [
      "<class 'numpy.str_'>\n"
     ]
    }
   ],
   "source": [
    "print(type(featuretrainingDataSet_numpy[0][0]))"
   ]
  },
  {
   "cell_type": "code",
   "execution_count": 17,
   "metadata": {},
   "outputs": [],
   "source": [
    "#converts to pytorch array\n",
    "x_pytorch = torch.from_numpy(x_np)\n",
    "y_pytorch = torch.from_numpy(y_np)"
   ]
  },
  {
   "cell_type": "code",
   "execution_count": null,
   "metadata": {},
   "outputs": [],
   "source": [
    "def train(model, loss, optimizer, x_val, y_val):\n",
    "    x = Variable(x_val, requires_grad=False)\n",
    "    y = Variable(y_val, requires_grad=False)\n",
    "    \n",
    "train()\n"
   ]
  },
  {
   "cell_type": "code",
   "execution_count": 11,
   "metadata": {
    "_cell_guid": "580b6b55-14fd-4722-a88e-73ded4bb9de0",
    "_uuid": "46f7080ca5073f052f71ebd72e214e89135dbbb4"
   },
   "outputs": [
    {
     "name": "stdout",
     "output_type": "stream",
     "text": [
      "3\n",
      "2\n",
      "5\n",
      "9\n",
      "asdf\n"
     ]
    }
   ],
   "source": [
    "array = [2,3,4]\n",
    "\n",
    "qwe = \"asdf\"\n",
    "def test(testArray, string):\n",
    "    z = 0\n",
    "    for x in testArray:\n",
    "        z = z + x\n",
    "        print(z)\n",
    "    print(string)\n",
    "print(array[0-2])\n",
    "       \n",
    "test(array, qwe)       \n"
   ]
  },
  {
   "cell_type": "code",
   "execution_count": null,
   "metadata": {},
   "outputs": [],
   "source": []
  },
  {
   "cell_type": "code",
   "execution_count": null,
   "metadata": {},
   "outputs": [],
   "source": []
  },
  {
   "cell_type": "code",
   "execution_count": null,
   "metadata": {},
   "outputs": [],
   "source": []
  }
 ],
 "metadata": {
  "kernelspec": {
   "display_name": "Python 3",
   "language": "python",
   "name": "python3"
  },
  "language_info": {
   "codemirror_mode": {
    "name": "ipython",
    "version": 3
   },
   "file_extension": ".py",
   "mimetype": "text/x-python",
   "name": "python",
   "nbconvert_exporter": "python",
   "pygments_lexer": "ipython3",
   "version": "3.7.1"
  }
 },
 "nbformat": 4,
 "nbformat_minor": 1
}
