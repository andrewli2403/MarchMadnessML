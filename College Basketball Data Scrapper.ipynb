{
 "cells": [
  {
   "cell_type": "code",
   "execution_count": null,
   "metadata": {},
   "outputs": [],
   "source": [
    "#web scrap team stats"
   ]
  },
  {
   "cell_type": "code",
   "execution_count": null,
   "metadata": {},
   "outputs": [],
   "source": [
    "import requests\n",
    "from bs4 import BeautifulSoup\n",
    "import pandas as pd"
   ]
  },
  {
   "cell_type": "code",
   "execution_count": null,
   "metadata": {},
   "outputs": [],
   "source": [
    "teams = []\n",
    "team = \"iowa\""
   ]
  },
  {
   "cell_type": "code",
   "execution_count": null,
   "metadata": {},
   "outputs": [],
   "source": [
    "#build the systematic url\n",
    "#https://www.sports-reference.com/cbb/schools/north-carolina-at/2020.html\n",
    "#https://www.sports-reference.com/cbb/schools/iowa/2020.html\n",
    "def statScrapper(team):\n",
    "    url = \"https://www.sports-reference.com/cbb/schools/\"\n",
    "    url += team\n",
    "    url += \"/2020.html\"\n",
    "    \n",
    "    res = requests.get(url)\n",
    "    return res"
   ]
  },
  {
   "cell_type": "code",
   "execution_count": null,
   "metadata": {
    "scrolled": false
   },
   "outputs": [],
   "source": [
    "res = statScrapper(team)\n",
    "\n",
    "src = res.content\n",
    "soup = BeautifulSoup(src, 'lxml')\n",
    "\n",
    "rows = soup.find_all(\"tr\")\n",
    "table = soup.table\n",
    "\n",
    "for row in rows:\n",
    "    print(row.text)\n",
    "teamStat = soup.find(\"tr\").startswith(\"Team\")\n",
    "print(teamStat)\n"
   ]
  },
  {
   "cell_type": "code",
   "execution_count": null,
   "metadata": {},
   "outputs": [],
   "source": [
    "#integer: a whole number\n",
    "integer = 10\n",
    "\n",
    "#float: real numbers with a decimal\n",
    "decimal = 10.1\n",
    "\n",
    "#string: a set of letters\n",
    "String = \"Hello\"\n",
    "\n",
    "#boolean: true or false values\n",
    "boolean = True"
   ]
  },
  {
   "cell_type": "code",
   "execution_count": null,
   "metadata": {},
   "outputs": [],
   "source": [
    "#int float str bool\n",
    "\n",
    "x = 10\n",
    "x == 10\n",
    "\n",
    "print(\"asdf\")\n",
    "print(\"asdf\", x)"
   ]
  },
  {
   "cell_type": "code",
   "execution_count": null,
   "metadata": {},
   "outputs": [],
   "source": [
    "y = 5\n",
    "if y == 1:\n",
    "    print(\"The value of y is 1\")\n",
    "elif y == 5:\n",
    "    print(\"The value of y is 5\")\n",
    "else:\n",
    "    print(\"The value of y is not 1 or 5\")"
   ]
  },
  {
   "cell_type": "code",
   "execution_count": null,
   "metadata": {},
   "outputs": [],
   "source": []
  },
  {
   "cell_type": "code",
   "execution_count": null,
   "metadata": {},
   "outputs": [],
   "source": [
    "x = 7\n",
    "y = 8\n",
    "if x == 7 or y == 9:\n",
    "    print(\"x is 7 or y is 9\")"
   ]
  },
  {
   "cell_type": "code",
   "execution_count": null,
   "metadata": {},
   "outputs": [],
   "source": [
    "#!= is does not equal\n",
    "if (2 + 2 != 4):\n",
    "    print(\"2 + 2 is not 4\")\n",
    "elif (2 + 2 == 5):\n",
    "    print(\"2 + 2 is 5\")\n",
    "else:\n",
    "    print(\"I do not know what 2 + 2 is\")\n",
    "    "
   ]
  },
  {
   "cell_type": "code",
   "execution_count": 2,
   "metadata": {},
   "outputs": [
    {
     "name": "stdout",
     "output_type": "stream",
     "text": [
      "Player One, choose between rock, paper or scissors: rock\n",
      "Player Two, choose between rock, paper or scissors: paper\n",
      "Player Two Wins!\n"
     ]
    }
   ],
   "source": [
    "player_one = input(\"Player One, choose between rock, paper or scissors: \")\n",
    "player_two = input(\"Player Two, choose between rock, paper or scissors: \")\n",
    "if player_one == \"rock\" and player_two == \"scissors\":\n",
    "    print(\"Player One Wins!\")\n",
    "elif player_one == \"paper\" and player_two == \"rock\":\n",
    "    print(\"Player One Wins!\")\n",
    "elif player_one == \"scissors\" and player_two == \"paper\":\n",
    "    print(\"Player One Wins!\")\n",
    "elif player_one == \"rock\" and player_two == \"paper\":\n",
    "    print(\"Player Two Wins!\")\n",
    "elif player_one == \"paper\" and player_two == \"scissors\":\n",
    "    print(\"Player Two Wins!\")\n",
    "elif player_one == \"scissors\" and player_two == \"rock\":\n",
    "    print(\"Player Two Wins!\")\n",
    "else:\n",
    "    print(\"Tie!\")"
   ]
  },
  {
   "cell_type": "code",
   "execution_count": null,
   "metadata": {},
   "outputs": [],
   "source": []
  }
 ],
 "metadata": {
  "kernelspec": {
   "display_name": "Python 3",
   "language": "python",
   "name": "python3"
  },
  "language_info": {
   "codemirror_mode": {
    "name": "ipython",
    "version": 3
   },
   "file_extension": ".py",
   "mimetype": "text/x-python",
   "name": "python",
   "nbconvert_exporter": "python",
   "pygments_lexer": "ipython3",
   "version": "3.7.1"
  }
 },
 "nbformat": 4,
 "nbformat_minor": 2
}
